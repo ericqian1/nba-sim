{
 "cells": [
  {
   "cell_type": "code",
   "execution_count": 1,
   "metadata": {},
   "outputs": [],
   "source": [
    "from utils import *"
   ]
  },
  {
   "cell_type": "code",
   "execution_count": 2,
   "metadata": {},
   "outputs": [],
   "source": [
    "df_final = process_data()"
   ]
  },
  {
   "cell_type": "code",
   "execution_count": 3,
   "metadata": {},
   "outputs": [
    {
     "data": {
      "text/html": [
       "<div>\n",
       "<style scoped>\n",
       "    .dataframe tbody tr th:only-of-type {\n",
       "        vertical-align: middle;\n",
       "    }\n",
       "\n",
       "    .dataframe tbody tr th {\n",
       "        vertical-align: top;\n",
       "    }\n",
       "\n",
       "    .dataframe thead th {\n",
       "        text-align: right;\n",
       "    }\n",
       "</style>\n",
       "<table border=\"1\" class=\"dataframe\">\n",
       "  <thead>\n",
       "    <tr style=\"text-align: right;\">\n",
       "      <th></th>\n",
       "      <th>GAME_ID</th>\n",
       "      <th>TEAM_ID</th>\n",
       "      <th>TEAM_ABBREVIATION</th>\n",
       "      <th>TEAM_CITY</th>\n",
       "      <th>PLAYER_ID</th>\n",
       "      <th>PLAYER_NAME</th>\n",
       "      <th>START_POSITION</th>\n",
       "      <th>COMMENT</th>\n",
       "      <th>MIN</th>\n",
       "      <th>FGM</th>\n",
       "      <th>...</th>\n",
       "      <th>PF</th>\n",
       "      <th>PTS</th>\n",
       "      <th>PLUS_MINUS</th>\n",
       "      <th>SEASON</th>\n",
       "      <th>HOME_TEAM_ID</th>\n",
       "      <th>VISITOR_TEAM_ID</th>\n",
       "      <th>MINS_PLAYED</th>\n",
       "      <th>FIELD</th>\n",
       "      <th>OPPONENT_TEAM_ID</th>\n",
       "      <th>OPPONENT</th>\n",
       "    </tr>\n",
       "  </thead>\n",
       "  <tbody>\n",
       "    <tr>\n",
       "      <th>0</th>\n",
       "      <td>22000645</td>\n",
       "      <td>1610612754</td>\n",
       "      <td>IND</td>\n",
       "      <td>Indiana</td>\n",
       "      <td>203200</td>\n",
       "      <td>Justin Holiday</td>\n",
       "      <td>F</td>\n",
       "      <td>NaN</td>\n",
       "      <td>41:45:00</td>\n",
       "      <td>5.0</td>\n",
       "      <td>...</td>\n",
       "      <td>2.0</td>\n",
       "      <td>15.0</td>\n",
       "      <td>8.0</td>\n",
       "      <td>2020</td>\n",
       "      <td>1610612748</td>\n",
       "      <td>1610612754</td>\n",
       "      <td>41.0</td>\n",
       "      <td>Away</td>\n",
       "      <td>1610612748</td>\n",
       "      <td>MIA</td>\n",
       "    </tr>\n",
       "    <tr>\n",
       "      <th>1</th>\n",
       "      <td>22000645</td>\n",
       "      <td>1610612754</td>\n",
       "      <td>IND</td>\n",
       "      <td>Indiana</td>\n",
       "      <td>1627734</td>\n",
       "      <td>Domantas Sabonis</td>\n",
       "      <td>F</td>\n",
       "      <td>NaN</td>\n",
       "      <td>35:06:00</td>\n",
       "      <td>5.0</td>\n",
       "      <td>...</td>\n",
       "      <td>6.0</td>\n",
       "      <td>17.0</td>\n",
       "      <td>-2.0</td>\n",
       "      <td>2020</td>\n",
       "      <td>1610612748</td>\n",
       "      <td>1610612754</td>\n",
       "      <td>35.0</td>\n",
       "      <td>Away</td>\n",
       "      <td>1610612748</td>\n",
       "      <td>MIA</td>\n",
       "    </tr>\n",
       "    <tr>\n",
       "      <th>2</th>\n",
       "      <td>22000645</td>\n",
       "      <td>1610612754</td>\n",
       "      <td>IND</td>\n",
       "      <td>Indiana</td>\n",
       "      <td>1626167</td>\n",
       "      <td>Myles Turner</td>\n",
       "      <td>C</td>\n",
       "      <td>NaN</td>\n",
       "      <td>29:58:00</td>\n",
       "      <td>4.0</td>\n",
       "      <td>...</td>\n",
       "      <td>3.0</td>\n",
       "      <td>16.0</td>\n",
       "      <td>6.0</td>\n",
       "      <td>2020</td>\n",
       "      <td>1610612748</td>\n",
       "      <td>1610612754</td>\n",
       "      <td>29.0</td>\n",
       "      <td>Away</td>\n",
       "      <td>1610612748</td>\n",
       "      <td>MIA</td>\n",
       "    </tr>\n",
       "    <tr>\n",
       "      <th>3</th>\n",
       "      <td>22000645</td>\n",
       "      <td>1610612754</td>\n",
       "      <td>IND</td>\n",
       "      <td>Indiana</td>\n",
       "      <td>1627747</td>\n",
       "      <td>Caris LeVert</td>\n",
       "      <td>G</td>\n",
       "      <td>NaN</td>\n",
       "      <td>34:42:00</td>\n",
       "      <td>5.0</td>\n",
       "      <td>...</td>\n",
       "      <td>1.0</td>\n",
       "      <td>13.0</td>\n",
       "      <td>1.0</td>\n",
       "      <td>2020</td>\n",
       "      <td>1610612748</td>\n",
       "      <td>1610612754</td>\n",
       "      <td>34.0</td>\n",
       "      <td>Away</td>\n",
       "      <td>1610612748</td>\n",
       "      <td>MIA</td>\n",
       "    </tr>\n",
       "    <tr>\n",
       "      <th>4</th>\n",
       "      <td>22000645</td>\n",
       "      <td>1610612754</td>\n",
       "      <td>IND</td>\n",
       "      <td>Indiana</td>\n",
       "      <td>1627763</td>\n",
       "      <td>Malcolm Brogdon</td>\n",
       "      <td>G</td>\n",
       "      <td>NaN</td>\n",
       "      <td>40:35:00</td>\n",
       "      <td>4.0</td>\n",
       "      <td>...</td>\n",
       "      <td>1.0</td>\n",
       "      <td>12.0</td>\n",
       "      <td>6.0</td>\n",
       "      <td>2020</td>\n",
       "      <td>1610612748</td>\n",
       "      <td>1610612754</td>\n",
       "      <td>40.0</td>\n",
       "      <td>Away</td>\n",
       "      <td>1610612748</td>\n",
       "      <td>MIA</td>\n",
       "    </tr>\n",
       "  </tbody>\n",
       "</table>\n",
       "<p>5 rows × 35 columns</p>\n",
       "</div>"
      ],
      "text/plain": [
       "    GAME_ID     TEAM_ID TEAM_ABBREVIATION TEAM_CITY  PLAYER_ID  \\\n",
       "0  22000645  1610612754               IND   Indiana     203200   \n",
       "1  22000645  1610612754               IND   Indiana    1627734   \n",
       "2  22000645  1610612754               IND   Indiana    1626167   \n",
       "3  22000645  1610612754               IND   Indiana    1627747   \n",
       "4  22000645  1610612754               IND   Indiana    1627763   \n",
       "\n",
       "        PLAYER_NAME START_POSITION COMMENT       MIN  FGM  ...   PF   PTS  \\\n",
       "0    Justin Holiday              F     NaN  41:45:00  5.0  ...  2.0  15.0   \n",
       "1  Domantas Sabonis              F     NaN  35:06:00  5.0  ...  6.0  17.0   \n",
       "2      Myles Turner              C     NaN  29:58:00  4.0  ...  3.0  16.0   \n",
       "3      Caris LeVert              G     NaN  34:42:00  5.0  ...  1.0  13.0   \n",
       "4   Malcolm Brogdon              G     NaN  40:35:00  4.0  ...  1.0  12.0   \n",
       "\n",
       "   PLUS_MINUS  SEASON  HOME_TEAM_ID  VISITOR_TEAM_ID  MINS_PLAYED  FIELD  \\\n",
       "0         8.0    2020    1610612748       1610612754         41.0   Away   \n",
       "1        -2.0    2020    1610612748       1610612754         35.0   Away   \n",
       "2         6.0    2020    1610612748       1610612754         29.0   Away   \n",
       "3         1.0    2020    1610612748       1610612754         34.0   Away   \n",
       "4         6.0    2020    1610612748       1610612754         40.0   Away   \n",
       "\n",
       "   OPPONENT_TEAM_ID  OPPONENT  \n",
       "0        1610612748       MIA  \n",
       "1        1610612748       MIA  \n",
       "2        1610612748       MIA  \n",
       "3        1610612748       MIA  \n",
       "4        1610612748       MIA  \n",
       "\n",
       "[5 rows x 35 columns]"
      ]
     },
     "execution_count": 3,
     "metadata": {},
     "output_type": "execute_result"
    }
   ],
   "source": [
    "df_final.head()"
   ]
  },
  {
   "cell_type": "markdown",
   "metadata": {},
   "source": [
    "# Player Stats Examples"
   ]
  },
  {
   "cell_type": "code",
   "execution_count": 4,
   "metadata": {},
   "outputs": [
    {
     "data": {
      "text/plain": [
       "{'PTS': 25.125874125874127,\n",
       " 'REB': 7.979020979020979,\n",
       " 'OREB': 0.8951048951048951,\n",
       " 'DREB': 7.083916083916084,\n",
       " 'AST': 8.944055944055943,\n",
       " 'STL': 1.1118881118881119,\n",
       " 'BLK': 0.5734265734265734,\n",
       " 'TO': 3.762237762237762,\n",
       " 'FGM': 9.398601398601398,\n",
       " 'FGA': 18.517482517482517,\n",
       " 'FTM': 4.174825174825175,\n",
       " 'FTA': 5.944055944055944,\n",
       " 'MINS_PLAYED': 32.16891891891892}"
      ]
     },
     "execution_count": 4,
     "metadata": {},
     "output_type": "execute_result"
    }
   ],
   "source": [
    "query_player_stats('LeBron James', df_final)"
   ]
  },
  {
   "cell_type": "code",
   "execution_count": 5,
   "metadata": {},
   "outputs": [
    {
     "data": {
      "text/plain": [
       "{'PTS': 25.093333333333334,\n",
       " 'REB': 7.693333333333333,\n",
       " 'OREB': 0.92,\n",
       " 'DREB': 6.773333333333333,\n",
       " 'AST': 9.026666666666667,\n",
       " 'STL': 1.1733333333333333,\n",
       " 'BLK': 0.5333333333333333,\n",
       " 'TO': 3.6933333333333334,\n",
       " 'FGM': 9.32,\n",
       " 'FGA': 18.2,\n",
       " 'FTM': 4.16,\n",
       " 'FTA': 5.746666666666667,\n",
       " 'MINS_PLAYED': 31.417721518987342}"
      ]
     },
     "execution_count": 5,
     "metadata": {},
     "output_type": "execute_result"
    }
   ],
   "source": [
    "query_player_stats('LeBron James', df_final, field = 'Home')"
   ]
  },
  {
   "cell_type": "code",
   "execution_count": 6,
   "metadata": {},
   "outputs": [
    {
     "data": {
      "text/plain": [
       "{'PTS': 21.5,\n",
       " 'REB': 4.0,\n",
       " 'OREB': 0.0,\n",
       " 'DREB': 4.0,\n",
       " 'AST': 8.0,\n",
       " 'STL': 0.5,\n",
       " 'BLK': 0.5,\n",
       " 'TO': 0.5,\n",
       " 'FGM': 8.0,\n",
       " 'FGA': 13.5,\n",
       " 'FTM': 2.0,\n",
       " 'FTA': 2.0,\n",
       " 'MINS_PLAYED': 21.5}"
      ]
     },
     "execution_count": 6,
     "metadata": {},
     "output_type": "execute_result"
    }
   ],
   "source": [
    "query_player_stats('LeBron James', df_final, field = 'Home', opponent = 'ATL')"
   ]
  },
  {
   "cell_type": "code",
   "execution_count": null,
   "metadata": {},
   "outputs": [],
   "source": []
  },
  {
   "cell_type": "markdown",
   "metadata": {},
   "source": [
    "# Team Stats Examples"
   ]
  },
  {
   "cell_type": "code",
   "execution_count": 7,
   "metadata": {},
   "outputs": [
    {
     "data": {
      "text/plain": [
       "{'PTS': 10.070175438596491,\n",
       " 'REB': 4.041520467836257,\n",
       " 'OREB': 0.9152046783625731,\n",
       " 'DREB': 3.126315789473684,\n",
       " 'AST': 2.2508771929824563,\n",
       " 'STL': 0.7274853801169591,\n",
       " 'BLK': 0.5298245614035088,\n",
       " 'TO': 1.3245614035087718,\n",
       " 'FGM': 3.7350877192982455,\n",
       " 'FGA': 7.760818713450292,\n",
       " 'FTM': 1.608187134502924,\n",
       " 'FTA': 2.1830409356725147,\n",
       " 'MINS_PLAYED': 17.735960591133004}"
      ]
     },
     "execution_count": 7,
     "metadata": {},
     "output_type": "execute_result"
    }
   ],
   "source": [
    "query_team_stats('LAL', df_final)"
   ]
  },
  {
   "cell_type": "code",
   "execution_count": 8,
   "metadata": {},
   "outputs": [
    {
     "data": {
      "text/plain": [
       "{'PTS': 11.4,\n",
       " 'REB': 4.6,\n",
       " 'OREB': 1.1,\n",
       " 'DREB': 3.5,\n",
       " 'AST': 2.0,\n",
       " 'STL': 0.9,\n",
       " 'BLK': 0.4,\n",
       " 'TO': 1.3,\n",
       " 'FGM': 3.9,\n",
       " 'FGA': 8.6,\n",
       " 'FTM': 2.5,\n",
       " 'FTA': 3.7,\n",
       " 'MINS_PLAYED': 18.23076923076923}"
      ]
     },
     "execution_count": 8,
     "metadata": {},
     "output_type": "execute_result"
    }
   ],
   "source": [
    "query_team_stats('LAL', df_final, field = 'Home', opponent = 'BOS')"
   ]
  },
  {
   "cell_type": "code",
   "execution_count": null,
   "metadata": {},
   "outputs": [],
   "source": []
  },
  {
   "cell_type": "markdown",
   "metadata": {},
   "source": [
    "# Player Names"
   ]
  },
  {
   "cell_type": "code",
   "execution_count": 9,
   "metadata": {},
   "outputs": [
    {
     "data": {
      "text/plain": [
       "['LeBron James',\n",
       " 'Anthony Davis',\n",
       " 'Kentavious Caldwell-Pope',\n",
       " 'Danny Green',\n",
       " 'Kyle Kuzma',\n",
       " 'Avery Bradley',\n",
       " 'Marcus Allen',\n",
       " 'Rajon Rondo',\n",
       " 'Alex Caruso',\n",
       " 'Demetrius Jackson',\n",
       " 'Dwight Howard',\n",
       " 'Markieff Morris',\n",
       " 'Dion Waiters',\n",
       " 'Zach Norvell Jr.',\n",
       " 'JaVale McGee',\n",
       " 'Devontae Cacok',\n",
       " 'David Stockton',\n",
       " 'Troy Daniels',\n",
       " 'Quinn Cook',\n",
       " 'JR Smith',\n",
       " 'Kostas Antetokounmpo',\n",
       " 'Reggie Hearn',\n",
       " 'Talen Horton-Tucker',\n",
       " 'Jared Dudley',\n",
       " 'DeMarcus Cousins']"
      ]
     },
     "execution_count": 9,
     "metadata": {},
     "output_type": "execute_result"
    }
   ],
   "source": [
    "query_player_names('LAL', df_final, season = 2019) # returns list of players in descending order of minutes played"
   ]
  },
  {
   "cell_type": "code",
   "execution_count": null,
   "metadata": {},
   "outputs": [],
   "source": []
  },
  {
   "cell_type": "code",
   "execution_count": null,
   "metadata": {},
   "outputs": [],
   "source": []
  },
  {
   "cell_type": "code",
   "execution_count": null,
   "metadata": {},
   "outputs": [],
   "source": []
  },
  {
   "cell_type": "code",
   "execution_count": null,
   "metadata": {},
   "outputs": [],
   "source": []
  }
 ],
 "metadata": {
  "kernelspec": {
   "display_name": "Python 3",
   "language": "python",
   "name": "python3"
  },
  "language_info": {
   "codemirror_mode": {
    "name": "ipython",
    "version": 3
   },
   "file_extension": ".py",
   "mimetype": "text/x-python",
   "name": "python",
   "nbconvert_exporter": "python",
   "pygments_lexer": "ipython3",
   "version": "3.8.5"
  }
 },
 "nbformat": 4,
 "nbformat_minor": 4
}
